{
 "cells": [
  {
   "cell_type": "code",
   "execution_count": 11,
   "metadata": {},
   "outputs": [
    {
     "name": "stdout",
     "output_type": "stream",
     "text": [
      "Connection established......\n"
     ]
    }
   ],
   "source": [
    "import mysql.connector as con\n",
    "\n",
    "conn = con.connect(host=\"localhost\", password='root', user='root',database=\"student\")\n",
    "\n",
    "if conn.is_connected():\n",
    "    print(\"Connection established......\")"
   ]
  },
  {
   "cell_type": "code",
   "execution_count": 13,
   "metadata": {},
   "outputs": [
    {
     "name": "stdout",
     "output_type": "stream",
     "text": [
      "(1, 'John', 'Doe', 'john.doe@example.com', datetime.date(1990, 5, 15), datetime.datetime(2023, 10, 15, 17, 0, 7))\n",
      "(2, 'Jane', 'Smith', 'jane.smith@example.com', datetime.date(1985, 8, 20), datetime.datetime(2023, 10, 15, 17, 0, 7))\n",
      "(3, 'Bob', 'Johnson', 'bob.johnson@example.com', datetime.date(1995, 2, 10), datetime.datetime(2023, 10, 15, 17, 0, 7))\n"
     ]
    }
   ],
   "source": [
    "mycursor = conn.cursor()\n",
    "\n",
    "mycursor.execute(\"Select * from users\")\n",
    "\n",
    "for i in mycursor:\n",
    "    print(i)"
   ]
  }
 ],
 "metadata": {
  "kernelspec": {
   "display_name": "Python 3",
   "language": "python",
   "name": "python3"
  },
  "language_info": {
   "codemirror_mode": {
    "name": "ipython",
    "version": 3
   },
   "file_extension": ".py",
   "mimetype": "text/x-python",
   "name": "python",
   "nbconvert_exporter": "python",
   "pygments_lexer": "ipython3",
   "version": "3.11.4"
  }
 },
 "nbformat": 4,
 "nbformat_minor": 2
}
