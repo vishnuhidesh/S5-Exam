{
 "cells": [
  {
   "cell_type": "code",
   "execution_count": 3,
   "metadata": {},
   "outputs": [],
   "source": [
    "import tkinter as tk"
   ]
  },
  {
   "cell_type": "code",
   "execution_count": 17,
   "metadata": {},
   "outputs": [],
   "source": [
    "def onClick():\n",
    "    print(\"Button Clicked...\")"
   ]
  },
  {
   "cell_type": "code",
   "execution_count": 31,
   "metadata": {},
   "outputs": [],
   "source": [
    "root = tk.Tk()\n",
    "\n",
    "root.geometry('500x500')\n",
    "root.title(\"GUI\")\n",
    "\n",
    "label = tk.Label(root,text=\"Hello World\")\n",
    "\n",
    "label.pack()\n",
    "\n",
    "message = tk.Message(root,text=\"This is a message and allows in multiline\")\n",
    "message.pack()\n",
    "\n",
    "entry = tk.Entry(root)\n",
    "entry.pack()\n",
    "\n",
    "# text = tk.Text(root)\n",
    "# text.pack()\n",
    "\n",
    "button = tk.Button(root, text=\"Click me\", command=onClick)\n",
    "button.pack()\n",
    "\n",
    "var = tk.IntVar()\n",
    "radio = tk.Radiobutton(root,text=\"Option 1\", variable=var, value=1)\n",
    "radio = tk.Radiobutton(root,text=\"Option 2\", variable=var, value=2)\n",
    "radio.pack()\n",
    "\n",
    "\n",
    "check = tk.Checkbutton(root, text=\"Check me\", variable=var, onvalue=1, offvalue=0)\n",
    "check.pack()\n",
    "\n",
    "\n",
    "listbox = tk.Listbox(root)\n",
    "listbox.pack()\n",
    "listbox.insert(1,\"Item 1\")\n",
    "listbox.insert(2,\"Item 2\")\n",
    "\n",
    "\n",
    "menu = tk.Menu(root)\n",
    "menu.add_command(label=\"File\")\n",
    "menu.add_command(label=\"Edit\")\n",
    "root.config(menu=menu)\n",
    "\n",
    "\n",
    "scale = tk.Scale(root,from_=0,to=100)\n",
    "scale.pack()\n",
    "\n",
    "canvas = tk.Canvas(root, width=200, height=200)\n",
    "canvas.pack()\n",
    "canvas.create_rectangle(50, 25, 150, 75, fill=\"blue\")\n",
    "\n",
    "\n",
    "text = tk.Text(root)\n",
    "text.pack()\n",
    "scrollbar = tk.Scrollbar(root, command=text.yview)\n",
    "scrollbar.pack(side=tk.RIGHT, fill=tk.Y)\n",
    "text.config(yscrollcommand=scrollbar.set)\n",
    "\n",
    "root.mainloop()"
   ]
  }
 ],
 "metadata": {
  "kernelspec": {
   "display_name": "Python 3",
   "language": "python",
   "name": "python3"
  },
  "language_info": {
   "codemirror_mode": {
    "name": "ipython",
    "version": 3
   },
   "file_extension": ".py",
   "mimetype": "text/x-python",
   "name": "python",
   "nbconvert_exporter": "python",
   "pygments_lexer": "ipython3",
   "version": "3.11.4"
  }
 },
 "nbformat": 4,
 "nbformat_minor": 2
}
